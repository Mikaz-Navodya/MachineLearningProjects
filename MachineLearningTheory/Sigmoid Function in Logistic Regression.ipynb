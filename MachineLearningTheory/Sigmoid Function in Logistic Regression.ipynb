{
 "cells": [
  {
   "cell_type": "markdown",
   "id": "57bc2392-8bfc-456b-a51a-bb620ada7677",
   "metadata": {},
   "source": [
    "# Sigmoid Function in Logistic Regression\n",
    "\n",
    "The **sigmoid function** is an important mathematical function used in **logistic regression** and **neural networks**.  \n",
    "It maps any real-valued number into a range between 0 and 1, making it useful for probability estimation.\n",
    "\n",
    "The function is defined as:\n",
    "\n",
    "\n",
    "$g(z) = \\frac{1}{1+e^{-z}}\\tag{1}$\n",
    "\n",
    "In the case of logistic regression, z (the input to the sigmoid function), is the output of a linear regression model. \n",
    "- In the case of a single example, $z$ is scalar.\n",
    "- in the case of multiple examples, $z$ may be a vector consisting of $m$ values, one for each example. \n",
    "- The implementation of the sigmoid function should cover both of these potential input formats.\n",
    "Let's implement this in Python.\n"
   ]
  },
  {
   "cell_type": "code",
   "execution_count": 1,
   "id": "7bb3d94c-577f-4207-8a8d-2486dc067564",
   "metadata": {},
   "outputs": [],
   "source": [
    "# Importing required library\n",
    "import numpy as np\n",
    "import matplotlib.pyplot as plt"
   ]
  },
  {
   "cell_type": "markdown",
   "id": "b55d5880-6abd-48c8-a5a2-96e3bb2efa5e",
   "metadata": {},
   "source": [
    "#### Create Input Values\n",
    "\n",
    "Create an array of values ranging from **-10 to 10**.  \n",
    "These values will be used as inputs (`z`) for the sigmoid function.\n"
   ]
  },
  {
   "cell_type": "code",
   "execution_count": 2,
   "id": "185e1244-067c-4a21-a8a8-929b40b8d217",
   "metadata": {},
   "outputs": [
    {
     "data": {
      "text/plain": [
       "array([-10,  -9,  -8,  -7,  -6,  -5,  -4,  -3,  -2,  -1,   0,   1,   2,\n",
       "         3,   4,   5,   6,   7,   8,   9,  10])"
      ]
     },
     "execution_count": 2,
     "metadata": {},
     "output_type": "execute_result"
    }
   ],
   "source": [
    "z=np.arange(-10,11)\n",
    "z"
   ]
  },
  {
   "cell_type": "markdown",
   "id": "deed1c8c-52cd-4b9c-a430-e01ec0bf8207",
   "metadata": {},
   "source": [
    "#### Define the Sigmoid Function\n",
    "\n",
    "The sigmoid function takes an input `z` and maps it to values between 0 and 1.\n"
   ]
  },
  {
   "cell_type": "code",
   "execution_count": 3,
   "id": "711362f3-b760-452d-955c-6bf806fc244b",
   "metadata": {},
   "outputs": [],
   "source": [
    "def sigmoid_function(z):\n",
    "    g=1/(1+np.exp(-z))\n",
    "    return g"
   ]
  },
  {
   "cell_type": "markdown",
   "id": "be67765e-9173-4986-97ef-5ccdef49e446",
   "metadata": {},
   "source": [
    "#### Apply Sigmoid Function to Input Values"
   ]
  },
  {
   "cell_type": "code",
   "execution_count": 4,
   "id": "dcd09ae9-2f75-46ce-a5fc-38069766fe1a",
   "metadata": {},
   "outputs": [],
   "source": [
    "y = sigmoid_function(z)"
   ]
  },
  {
   "cell_type": "markdown",
   "id": "1a005db9-b346-4221-8eab-286c3d417528",
   "metadata": {},
   "source": [
    "#### Display Input vs Output\n",
    "\n",
    "We print a comparison between the input values `z` and the corresponding sigmoid outputs.\n"
   ]
  },
  {
   "cell_type": "code",
   "execution_count": 5,
   "id": "def31065-bc8e-480c-9524-0edc4a7dca9f",
   "metadata": {},
   "outputs": [
    {
     "name": "stdout",
     "output_type": "stream",
     "text": [
      "Input (z), Output (sigmoid(z))\n",
      "[[-1.00000000e+01  4.53978687e-05]\n",
      " [-9.00000000e+00  1.23394576e-04]\n",
      " [-8.00000000e+00  3.35350130e-04]\n",
      " [-7.00000000e+00  9.11051194e-04]\n",
      " [-6.00000000e+00  2.47262316e-03]\n",
      " [-5.00000000e+00  6.69285092e-03]\n",
      " [-4.00000000e+00  1.79862100e-02]\n",
      " [-3.00000000e+00  4.74258732e-02]\n",
      " [-2.00000000e+00  1.19202922e-01]\n",
      " [-1.00000000e+00  2.68941421e-01]\n",
      " [ 0.00000000e+00  5.00000000e-01]\n",
      " [ 1.00000000e+00  7.31058579e-01]\n",
      " [ 2.00000000e+00  8.80797078e-01]\n",
      " [ 3.00000000e+00  9.52574127e-01]\n",
      " [ 4.00000000e+00  9.82013790e-01]\n",
      " [ 5.00000000e+00  9.93307149e-01]\n",
      " [ 6.00000000e+00  9.97527377e-01]\n",
      " [ 7.00000000e+00  9.99088949e-01]\n",
      " [ 8.00000000e+00  9.99664650e-01]\n",
      " [ 9.00000000e+00  9.99876605e-01]\n",
      " [ 1.00000000e+01  9.99954602e-01]]\n"
     ]
    }
   ],
   "source": [
    "print(\"Input (z), Output (sigmoid(z))\")\n",
    "print(np.c_[z, y])"
   ]
  },
  {
   "cell_type": "markdown",
   "id": "1545915a-270c-40f4-a8dc-da77d0a55e1c",
   "metadata": {},
   "source": [
    "#### Visualize the Sigmoid Function\n",
    "\n",
    "We use Matplotlib to plot the sigmoid curve.  \n",
    "Notice how the values smoothly transition from **0 to 1** as `z` increases.\n"
   ]
  },
  {
   "cell_type": "code",
   "execution_count": 6,
   "id": "28e16454-5694-4f6c-af6e-75aa481120b3",
   "metadata": {},
   "outputs": [
    {
     "data": {
      "image/png": "[encoded data removed]",
      "text/plain": [
       "<Figure size 640x480 with 1 Axes>"
      ]
     },
     "metadata": {},
     "output_type": "display_data"
    }
   ],
   "source": [
    "# Plot the sigmoid curve\n",
    "plt.plot(z, y, color='red', marker='o')\n",
    "plt.title(\"Sigmoid Function\")\n",
    "plt.xlabel(\"Input (z)\")\n",
    "plt.ylabel(\"Sigmoid(z)\")\n",
    "plt.grid(True)\n",
    "plt.show()\n"
   ]
  },
  {
   "cell_type": "code",
   "execution_count": null,
   "id": "aaec4c4e-9ff0-4841-8c8c-4e3926157bae",
   "metadata": {},
   "outputs": [],
   "source": []
  }
 ],
 "metadata": {
  "kernelspec": {
   "display_name": "Python 3 (ipykernel)",
   "language": "python",
   "name": "python3"
  },
  "language_info": {
   "codemirror_mode": {
    "name": "ipython",
    "version": 3
   },
   "file_extension": ".py",
   "mimetype": "text/x-python",
   "name": "python",
   "nbconvert_exporter": "python",
   "pygments_lexer": "ipython3",
   "version": "3.12.7"
  }
 },
 "nbformat": 4,
 "nbformat_minor": 5
}
