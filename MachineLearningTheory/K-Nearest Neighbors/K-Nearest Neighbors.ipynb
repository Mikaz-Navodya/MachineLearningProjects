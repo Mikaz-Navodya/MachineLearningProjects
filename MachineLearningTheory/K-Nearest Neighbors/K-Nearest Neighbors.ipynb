{
 "cells": [
  {
   "cell_type": "markdown",
   "id": "53baf491-4ce7-4412-ae17-e4b8c00aacd0",
   "metadata": {},
   "source": [
    "## K-Nearest Neighbors (KNN) from Scratch using Python\n",
    "\n",
    "Overview:\n",
    "This notebook demonstrates how to implement the K-Nearest Neighbors (KNN) algorithm manually (without using built-in scikit-learn functions). It covers dataset handling, distance calculation, neighbor selection, and final classification."
   ]
  },
  {
   "cell_type": "markdown",
   "id": "735ccf89-e2c1-4e61-bbae-837b05f15914",
   "metadata": {},
   "source": [
    "#### Import Libraries and data set"
   ]
  },
  {
   "cell_type": "code",
   "execution_count": 1,
   "id": "977e4754-20d9-421d-b23c-af3994f52f8c",
   "metadata": {},
   "outputs": [],
   "source": [
    "import numpy as np\n",
    "import pandas as pd"
   ]
  },
  {
   "cell_type": "code",
   "execution_count": 2,
   "id": "e21e1971-2f4e-4282-840c-3bde0c01492d",
   "metadata": {},
   "outputs": [],
   "source": [
    "data = pd.read_csv('Ice-Cream-Dataset for K-NN.csv')\n",
    "df=data.values"
   ]
  },
  {
   "cell_type": "markdown",
   "id": "9229b304-e1fa-4dde-a920-ee6c0d43567c",
   "metadata": {},
   "source": [
    "#### Example"
   ]
  },
  {
   "cell_type": "code",
   "execution_count": 3,
   "id": "7ecda61c-2775-43cf-af7a-ef8f18620dea",
   "metadata": {},
   "outputs": [],
   "source": [
    "Temperature = 26\n",
    "Humidity = 72"
   ]
  },
  {
   "cell_type": "code",
   "execution_count": 4,
   "id": "057d2c6f-7b2d-43de-abd7-6691d1eefd5b",
   "metadata": {},
   "outputs": [],
   "source": [
    "example = [Temperature,Humidity]"
   ]
  },
  {
   "cell_type": "markdown",
   "id": "f500e97d-db65-400d-86bb-29182a08b061",
   "metadata": {},
   "source": [
    "#### Calculate Distance\n",
    "compute the Euclidean distance between the test instance and all rows in the dataset."
   ]
  },
  {
   "cell_type": "code",
   "execution_count": 5,
   "id": "18dcf418-a0a4-4322-bf04-37c28363cd19",
   "metadata": {},
   "outputs": [],
   "source": [
    "def CalcualateDistance(trainingSet, ExampleInstance):\n",
    "    Distance=[]\n",
    "    \n",
    "    for i in range(len(trainingSet)):\n",
    "        DistPerTrain=[]\n",
    "        for j in range(len(ExampleInstance)):\n",
    "            l = ExampleInstance[j]-trainingSet[i][j]\n",
    "            l=l**2\n",
    "            DistPerTrain.append(l)\n",
    "        k=np.sum(DistPerTrain)\n",
    "        k=np.sqrt(k)\n",
    "        Distance.append(k)\n",
    "    return Distance        "
   ]
  },
  {
   "cell_type": "markdown",
   "id": "7328727c-1883-45ca-8b1d-a5556a97ba76",
   "metadata": {},
   "source": [
    "#### Smallest Distance\n",
    "Identify the k smallest distances and their corresponding indices."
   ]
  },
  {
   "cell_type": "code",
   "execution_count": 6,
   "id": "576497a3-a534-43ab-9d75-1fd8be3201b3",
   "metadata": {},
   "outputs": [],
   "source": [
    "def NearestNeighbors(k,Distance):\n",
    "    arr = np.zeros(k)\n",
    "    minimum=np.zeros(k)\n",
    "    for i in range(k):\n",
    "        minimum[i]=Distance[0]\n",
    "    for i in range(len(Distance)):\n",
    "        for j in range(k):\n",
    "            if minimum[j]>Distance[i]:\n",
    "                minimum[j]=Distance[i]\n",
    "                arr[j]=i\n",
    "                break\n",
    "       \n",
    "    return minimum,arr"
   ]
  },
  {
   "cell_type": "code",
   "execution_count": 7,
   "id": "1535d27a-2773-4b90-85c7-4bde36e4dad2",
   "metadata": {},
   "outputs": [
    {
     "data": {
      "text/plain": [
       "[48.877397639399746,\n",
       " 52.773099207835045,\n",
       " 49.64876634922564,\n",
       " 56.462376853972415,\n",
       " 44.294469180700204,\n",
       " 57.584720195551874,\n",
       " 45.18849411078001,\n",
       " 53.14132102234569,\n",
       " 48.104053883222775,\n",
       " 55.362442142665635]"
      ]
     },
     "execution_count": 7,
     "metadata": {},
     "output_type": "execute_result"
    }
   ],
   "source": [
    "distance = CalcualateDistance(df,example)\n",
    "distance"
   ]
  },
  {
   "cell_type": "code",
   "execution_count": 8,
   "id": "672808dd-2813-4466-976b-6bc5613a887c",
   "metadata": {},
   "outputs": [
    {
     "data": {
      "text/plain": [
       "array([44.29446918, 45.18849411, 48.10405388])"
      ]
     },
     "execution_count": 8,
     "metadata": {},
     "output_type": "execute_result"
    }
   ],
   "source": [
    "minimumDistances,Indices = NearestNeighbors(3,distance)\n",
    "minimumDistances"
   ]
  },
  {
   "cell_type": "code",
   "execution_count": 9,
   "id": "939a0303-f7ff-4082-803c-7365f0ddf0b9",
   "metadata": {},
   "outputs": [
    {
     "data": {
      "text/plain": [
       "array([4., 6., 8.])"
      ]
     },
     "execution_count": 9,
     "metadata": {},
     "output_type": "execute_result"
    }
   ],
   "source": [
    "Indices"
   ]
  },
  {
   "cell_type": "markdown",
   "id": "56c6a5c6-0666-4490-8ea0-57be89281fb1",
   "metadata": {},
   "source": [
    "#### Predict Class Label\n",
    "\n",
    "Predict the class label by taking the majority vote among the nearest neighbors."
   ]
  },
  {
   "cell_type": "code",
   "execution_count": 10,
   "id": "4e84a917-06e8-4a6e-a112-ba0f0a1d6953",
   "metadata": {},
   "outputs": [],
   "source": [
    "def MajorityVoteOfNeighbors(indices,df,OutputColIndex):\n",
    "    ballotBox = []\n",
    "    for i in range(len(indices)):\n",
    "        ballotBox.append(df[i][OutputColIndex])\n",
    "    values, counts = np.unique(ballotBox, return_counts=True)\n",
    "    Winner = values[np.argmax(counts)]\n",
    "    return Winner"
   ]
  },
  {
   "cell_type": "code",
   "execution_count": 11,
   "id": "4e9ac9b0-1390-41f7-9cb4-d79f5fa3f2ba",
   "metadata": {},
   "outputs": [
    {
     "data": {
      "text/plain": [
       "1"
      ]
     },
     "execution_count": 11,
     "metadata": {},
     "output_type": "execute_result"
    }
   ],
   "source": [
    "Prediction = MajorityVoteOfNeighbors(Indices,df,3)\n",
    "Prediction"
   ]
  },
  {
   "cell_type": "markdown",
   "id": "d5fbd0d1-6ccc-43c4-b05a-3f8fd62ee647",
   "metadata": {},
   "source": [
    "#### K-Nearest Neighbors function\n",
    "Combines all the previous steps into a single reusable function knn() that implements the full KNN process."
   ]
  },
  {
   "cell_type": "code",
   "execution_count": 12,
   "id": "2c0f7bb4-c0cd-4e43-b3d8-af3176ce4110",
   "metadata": {},
   "outputs": [],
   "source": [
    "def knn(data,k,OutputColIndex,ExampleInstance):\n",
    "    # Calculate Distance between example instance and training instances\n",
    "    distance = CalcualateDistance(data, ExampleInstance)\n",
    "    # Find nearest neighbors to example instance\n",
    "    minimumDistances,Indices=NearestNeighbors(k,distance)\n",
    "    # Class of majority of nearest neighbor instances\n",
    "    output = MajorityVoteOfNeighbors(Indices,df,3)\n",
    "\n",
    "    return output"
   ]
  },
  {
   "cell_type": "code",
   "execution_count": 13,
   "id": "e1929afe-311e-4176-91c3-cd733c6958e7",
   "metadata": {},
   "outputs": [],
   "source": [
    "newExample=[23,72]\n",
    "output=knn(df,3,3,newExample)"
   ]
  },
  {
   "cell_type": "code",
   "execution_count": 14,
   "id": "87e29c8c-5219-45aa-ac25-8681da20f936",
   "metadata": {},
   "outputs": [
    {
     "data": {
      "text/plain": [
       "1"
      ]
     },
     "execution_count": 14,
     "metadata": {},
     "output_type": "execute_result"
    }
   ],
   "source": [
    "output"
   ]
  },
  {
   "cell_type": "code",
   "execution_count": null,
   "id": "165536dc-f535-4269-b21a-42eb10c69c8e",
   "metadata": {},
   "outputs": [],
   "source": []
  }
 ],
 "metadata": {
  "kernelspec": {
   "display_name": "Python [conda env:base] *",
   "language": "python",
   "name": "conda-base-py"
  },
  "language_info": {
   "codemirror_mode": {
    "name": "ipython",
    "version": 3
   },
   "file_extension": ".py",
   "mimetype": "text/x-python",
   "name": "python",
   "nbconvert_exporter": "python",
   "pygments_lexer": "ipython3",
   "version": "3.12.7"
  }
 },
 "nbformat": 4,
 "nbformat_minor": 5
}
