{
 "cells": [
  {
   "cell_type": "markdown",
   "id": "36ab5d9e-f372-4294-944d-be04d18cb7db",
   "metadata": {},
   "source": [
    "#### Import Libraries"
   ]
  },
  {
   "cell_type": "code",
   "execution_count": 1,
   "id": "bb153f90-3ad1-4b94-a3c4-7ca64fea6f1e",
   "metadata": {},
   "outputs": [],
   "source": [
    "import numpy as np"
   ]
  },
  {
   "cell_type": "markdown",
   "id": "136ad0c9-12b9-40d1-ae9b-e6ee8e2674b1",
   "metadata": {},
   "source": [
    "#### Calculate entropy"
   ]
  },
  {
   "cell_type": "code",
   "execution_count": 2,
   "id": "eec6d744-8f04-42e9-8128-e653e9122776",
   "metadata": {},
   "outputs": [],
   "source": [
    "def entropy(p):\n",
    "    if p==0 or p==1:\n",
    "        return 0\n",
    "    else:\n",
    "        H=-p*np.log2(p)-(1-p)*np.log2(1-p)\n",
    "        return H"
   ]
  },
  {
   "cell_type": "markdown",
   "id": "015ff893-ac9b-4da3-aa1b-f57e33e3ceba",
   "metadata": {},
   "source": [
    "#### Split the dataset in to left and right indices"
   ]
  },
  {
   "cell_type": "code",
   "execution_count": 3,
   "id": "ee619512-8659-442f-b923-6351f7c73dd0",
   "metadata": {},
   "outputs": [],
   "source": [
    "def split_dataset(X,indices,index_feature):\n",
    "    left_indices=[]\n",
    "    right_indices=[]\n",
    "    for i in indices:\n",
    "      #  print(X[i,index_feature])\n",
    "        if X[i,index_feature]==1:\n",
    "            left_indices.append(i)\n",
    "        else:\n",
    "            right_indices.append(i)\n",
    "#    print('-------------------------------------------------------------')\n",
    "    return left_indices,right_indices\n"
   ]
  },
  {
   "cell_type": "markdown",
   "id": "4e1fd84e-d467-4a6e-ae98-4f5b2f56ea4c",
   "metadata": {},
   "source": [
    "#### Calculate Weighted Entropy"
   ]
  },
  {
   "cell_type": "code",
   "execution_count": 4,
   "id": "c1e3249f-1b10-49ef-97f9-a85630ceed03",
   "metadata": {},
   "outputs": [],
   "source": [
    "def weighted_entropy(X,y,left_indices,right_indices):\n",
    "    p_right = sum(y[right_indices])/len(right_indices)\n",
    "    p_left = sum(y[left_indices])/len(left_indices)\n",
    "    w_right = len(right_indices)/len(X)\n",
    "    w_left = len(left_indices)/len(X)\n",
    "\n",
    "    return w_right*entropy(p_right)+w_left*entropy(p_left)\n"
   ]
  },
  {
   "cell_type": "markdown",
   "id": "d82ee3e2-879d-4d9d-b4ca-5d12fc5319d1",
   "metadata": {},
   "source": [
    "#### Calculate Information Gain"
   ]
  },
  {
   "cell_type": "code",
   "execution_count": 5,
   "id": "47f3683b-5fe1-4229-b0d6-3100cf1cbe34",
   "metadata": {},
   "outputs": [],
   "source": [
    "def information_gain (X,y,left_indices,right_indices):\n",
    "    p_node = sum(y)/len(y)\n",
    "    return entropy(p_node) - weighted_entropy(X,y,left_indices,right_indices)"
   ]
  },
  {
   "cell_type": "markdown",
   "id": "d167740c-c45e-493e-85ec-4a7b33a3aec5",
   "metadata": {},
   "source": [
    "#### Best Split Feature"
   ]
  },
  {
   "cell_type": "code",
   "execution_count": 6,
   "id": "493a3bb3-931d-4f28-b240-b333e6b98030",
   "metadata": {},
   "outputs": [],
   "source": [
    "def get_best_split(X,y,feature_list,indices):\n",
    "    Max_ig=0\n",
    "    best_feature=-1\n",
    "    \n",
    "    #['Ear Shape', 'Face Shape', 'Whiskers']\n",
    "    for i, feature_name in enumerate(feature_list):\n",
    "   #     print('==============================================================')\n",
    "   #     print('Feature Number',i)\n",
    "   #     print('==============================================================')\n",
    "        left_indices,right_indices = split_dataset(X,indices,i)\n",
    "  #      print('Left indices',left_indices)\n",
    "   #     print('right indices',right_indices)\n",
    "   #     print('-------------------------------------------------------------')\n",
    "        ig = information_gain(X,y, left_indices,right_indices)\n",
    "    #    print(f\"Feature :{feature_name} has information gain : {ig:.5f}\")\n",
    "        if ig>Max_ig:\n",
    "            Max_ig=ig\n",
    "            best_feature=i\n",
    "    return best_feature"
   ]
  },
  {
   "cell_type": "markdown",
   "id": "7fdc1d1b-9625-487a-864f-21319df6ed05",
   "metadata": {},
   "source": [
    "#### Recursive Decision Tree"
   ]
  },
  {
   "cell_type": "code",
   "execution_count": 7,
   "id": "299b3cf1-590b-40a5-aa33-1d9e13d72cf2",
   "metadata": {},
   "outputs": [],
   "source": [
    "def decision_tree(X,y,indices,branch_name,max_depth,current_depth,feature_list):\n",
    "\n",
    "\n",
    "\n",
    "    Line = '-'*current_depth*4\n",
    "\n",
    "    if max_depth==current_depth:\n",
    "        print(Line,\"Depth level :\",current_depth,\" , Branch :\",branch_name,\", Leaf node contains : \",indices)\n",
    "        return\n",
    "\n",
    "   \n",
    "    best_feature = get_best_split(X,y,feature_list,indices)\n",
    "    print(Line,\"Depth level :\",current_depth,\"Best split feature is :\",feature_list[best_feature],\" in \",branch_name)\n",
    "    left_indices,right_indices = split_dataset(X,indices,best_feature)\n",
    "    decision_tree(X,y,right_indices,\"right branch\",max_depth,current_depth+1,np.delete(feature_list, best_feature))\n",
    "    decision_tree(X,y,left_indices,\"left branch\",max_depth,current_depth+1,np.delete(feature_list, best_feature))\n",
    "\n",
    "    "
   ]
  },
  {
   "cell_type": "markdown",
   "id": "2b18a2ce-d037-4522-9ac0-d9059985aa1f",
   "metadata": {},
   "source": [
    "#### Data set"
   ]
  },
  {
   "cell_type": "code",
   "execution_count": 8,
   "id": "b3fdd65e-f8de-4cef-b66f-019fafeb9349",
   "metadata": {},
   "outputs": [],
   "source": [
    "X_train = np.array([[1,1,1],[1,0,1],[1,0,0],[1,0,0],[1,1,1],[0,1,1],[0,0,0],[1,0,1],[0,1,0],[1,0,0]])\n",
    "y_train = np.array([1,1,0,0,1,0,0,1,1,0])\n",
    "rows, cols = np.indices(X_train.shape)\n",
    "feature_list=['Feature 1 ',' Feature 2 ',' Feature 3 ']"
   ]
  },
  {
   "cell_type": "markdown",
   "id": "8470f729-5de6-497f-951b-a70027be0305",
   "metadata": {},
   "source": [
    "#### Call the Decision Tree "
   ]
  },
  {
   "cell_type": "code",
   "execution_count": 9,
   "id": "239547e3-7ca8-4ba6-9509-6a01a9460f29",
   "metadata": {},
   "outputs": [
    {
     "name": "stdout",
     "output_type": "stream",
     "text": [
      " Depth level : 0 Best split feature is :  Feature 3   in  Root\n",
      "---- Depth level : 1 Best split feature is :  Feature 2   in  right branch\n",
      "-------- Depth level : 2  , Branch : right branch , Leaf node contains :  [2, 3, 6, 9]\n",
      "-------- Depth level : 2  , Branch : left branch , Leaf node contains :  [8]\n",
      "---- Depth level : 1 Best split feature is : Feature 1   in  left branch\n",
      "-------- Depth level : 2  , Branch : right branch , Leaf node contains :  [5]\n",
      "-------- Depth level : 2  , Branch : left branch , Leaf node contains :  [0, 1, 4, 7]\n"
     ]
    }
   ],
   "source": [
    "\n",
    "decision_tree(X_train, y_train, rows[:,0], \"Root\", 2, 0,feature_list)"
   ]
  }
 ],
 "metadata": {
  "kernelspec": {
   "display_name": "Python [conda env:base] *",
   "language": "python",
   "name": "conda-base-py"
  },
  "language_info": {
   "codemirror_mode": {
    "name": "ipython",
    "version": 3
   },
   "file_extension": ".py",
   "mimetype": "text/x-python",
   "name": "python",
   "nbconvert_exporter": "python",
   "pygments_lexer": "ipython3",
   "version": "3.12.7"
  }
 },
 "nbformat": 4,
 "nbformat_minor": 5
}
