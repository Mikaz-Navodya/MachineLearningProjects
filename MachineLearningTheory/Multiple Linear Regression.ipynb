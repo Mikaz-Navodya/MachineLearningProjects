{
 "cells": [
  {
   "cell_type": "markdown",
   "id": "a346c327-bc46-4bec-854d-f4db9822d376",
   "metadata": {},
   "source": [
    " #### Importing Libraries"
   ]
  },
  {
   "cell_type": "code",
   "execution_count": 1,
   "id": "238f55a6-2c89-4a5a-b7d3-3a9b1e653126",
   "metadata": {},
   "outputs": [],
   "source": [
    "import numpy as np"
   ]
  },
  {
   "cell_type": "markdown",
   "id": "540368a2-428b-4ddc-8ee9-714ff9705ecd",
   "metadata": {},
   "source": [
    "#### Data set"
   ]
  },
  {
   "cell_type": "code",
   "execution_count": 2,
   "id": "52b8e9dd-a709-4d15-a8a2-8870286cc2f7",
   "metadata": {},
   "outputs": [],
   "source": [
    "X_train = np.array([[2104, 5, 1, 45], \n",
    "                    [1416, 3, 2, 40], \n",
    "                    [852, 2, 1, 35]])\n",
    "y_train = np.array([460, 232, 178])\n",
    "\n",
    "initial_w = np.array([ 0, 0, 0, 0])\n",
    "initial_b = 0"
   ]
  },
  {
   "cell_type": "markdown",
   "id": "36f552a6-5dfb-4504-9585-7954f47f2913",
   "metadata": {},
   "source": [
    "#### Cost Function\n",
    "Implements the Mean Squared Error (MSE) cost function.\n",
    "\n",
    "Measures how well the model’s predictions fit the actual data.\n"
   ]
  },
  {
   "cell_type": "code",
   "execution_count": 3,
   "id": "b47e6cf4-2248-4e81-9319-e02408add3df",
   "metadata": {},
   "outputs": [],
   "source": [
    "def Cost_function(x, y, w, b):\n",
    "    m = x.shape[0]                 # number of training examples\n",
    "    cost = 0.0                     # initialize cost\n",
    "    \n",
    "    for i in range(m):             \n",
    "        f_wb_i = np.dot(x[i], w) + b   # prediction for example i\n",
    "        cost = cost + (f_wb_i - y[i])**2   # squared error\n",
    "    \n",
    "    cost = cost / (2 * m)          # average cost over dataset\n",
    "    return cost\n"
   ]
  },
  {
   "cell_type": "markdown",
   "id": "0249d66f-df02-4b3e-aacb-9128a6042305",
   "metadata": {},
   "source": [
    "#### Gradient decent\n",
    "\n",
    "Implements Gradient Descent, an optimization algorithm.\n",
    "\n",
    "Steps:\n",
    "\n",
    "1. Compute prediction error.\n",
    "\n",
    "\n",
    "2. Calculate gradients (dj_dw, dj_db).\n",
    "\n",
    "\n",
    "3. Update parameters w and b by moving opposite to gradient direction.\n",
    "\n",
    "\n",
    "4. Repeat for No_itr iterations.\n",
    "\n",
    "alpha (learning rate) controls step size.\n",
    "\n",
    "Prints progress every 100 iterations to track convergence.\n",
    "\n"
   ]
  },
  {
   "cell_type": "code",
   "execution_count": 4,
   "id": "dec88735-541f-425a-9640-79b6241f437c",
   "metadata": {},
   "outputs": [],
   "source": [
    "def gradient_decent(x, y, w, b, No_itr, alpha):\n",
    "    for i in range(No_itr):             # repeat for No_itr iterations\n",
    "         m, n = x.shape                \n",
    "         dj_dw = np.zeros((n,))        \n",
    "         dj_db = 0.                    \n",
    "\n",
    "         for k in range(m):            \n",
    "            err = (np.dot(x[k], w) + b) - y[k]    # error for example k\n",
    "            for j in range(n):                   \n",
    "                dj_dw[j] = dj_dw[j] + err * x[k, j]  # accumulate gradient\n",
    "            dj_db = dj_db + err                    # accumulate bias gradient\n",
    "\n",
    "         # update weights and bias using learning rate (alpha)\n",
    "         w = w - alpha * dj_dw / m\n",
    "         b = b - alpha * dj_db / m         \n",
    "\n",
    "         # print cost every z iterations\n",
    "         z = 1000000\n",
    "         if i % z == 0:\n",
    "            J = Cost_function(x, y, w, b)\n",
    "            print(f\"Iteration {i}: Cost {J}   \")\n",
    "\n",
    "    return w, b\n"
   ]
  },
  {
   "cell_type": "code",
   "execution_count": 5,
   "id": "f7b1e9d0-e09a-40a6-be67-9a620daeb9f3",
   "metadata": {},
   "outputs": [
    {
     "name": "stdout",
     "output_type": "stream",
     "text": [
      "Iteration 0: Cost 2529.4629522316336   \n",
      "Iteration 1000000: Cost 455.07477332850203   \n",
      "Iteration 2000000: Cost 359.07439227491835   \n",
      "Iteration 3000000: Cost 283.32578895673595   \n",
      "Iteration 4000000: Cost 223.55674594163767   \n",
      "Iteration 5000000: Cost 176.39629219790027   \n",
      "Iteration 6000000: Cost 139.18458049701852   \n",
      "Iteration 7000000: Cost 109.82287216331831   \n",
      "Iteration 8000000: Cost 86.6551683177147   \n",
      "Iteration 9000000: Cost 68.37481162397758   \n"
     ]
    }
   ],
   "source": [
    "w,b=gradient_decent(X_train,y_train,initial_w,initial_b,10000000,5.0e-7)"
   ]
  },
  {
   "cell_type": "code",
   "execution_count": 6,
   "id": "4b9ccbad-d34e-4dd2-b30f-89d82728e425",
   "metadata": {},
   "outputs": [
    {
     "name": "stdout",
     "output_type": "stream",
     "text": [
      "w : [  0.18173972  16.29622198 -45.62523857   0.76800375] b : 0.8433498043253994\n"
     ]
    }
   ],
   "source": [
    "print(\"w :\",w,\"b :\",b)"
   ]
  },
  {
   "cell_type": "markdown",
   "id": "09b7c525-7334-4e97-a688-9fb869d97dbf",
   "metadata": {},
   "source": [
    "#### Predictions"
   ]
  },
  {
   "cell_type": "code",
   "execution_count": 7,
   "id": "b20af0bc-11c4-4165-8bc6-d9bdd5ce0847",
   "metadata": {},
   "outputs": [],
   "source": [
    "def predictor (x_pred):\n",
    " return np.dot(x_pred ,w)+b"
   ]
  },
  {
   "cell_type": "code",
   "execution_count": 8,
   "id": "c02bdac4-1b79-45fd-bb70-b6e9e8bf09e0",
   "metadata": {},
   "outputs": [
    {
     "name": "stdout",
     "output_type": "stream",
     "text": [
      "Real Value : 460 Predicted Value : 453.6397610669665 difference : 6.360238933033486\n"
     ]
    }
   ],
   "source": [
    "x_pred = np.array([2104, 5, 1, 45])\n",
    "Result = predictor (x_pred)\n",
    "difference = 460 - Result\n",
    "print(\"Real Value :\",460,\"Predicted Value :\",Result,\"difference :\",difference)"
   ]
  },
  {
   "cell_type": "code",
   "execution_count": null,
   "id": "2ee6aba0-2257-43f3-9729-a3862a47b9d3",
   "metadata": {},
   "outputs": [],
   "source": []
  }
 ],
 "metadata": {
  "kernelspec": {
   "display_name": "Python 3 (ipykernel)",
   "language": "python",
   "name": "python3"
  },
  "language_info": {
   "codemirror_mode": {
    "name": "ipython",
    "version": 3
   },
   "file_extension": ".py",
   "mimetype": "text/x-python",
   "name": "python",
   "nbconvert_exporter": "python",
   "pygments_lexer": "ipython3",
   "version": "3.12.7"
  }
 },
 "nbformat": 4,
 "nbformat_minor": 5
}
