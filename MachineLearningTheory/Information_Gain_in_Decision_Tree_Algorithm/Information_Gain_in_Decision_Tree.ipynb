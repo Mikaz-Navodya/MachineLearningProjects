{
 "cells": [
  {
   "cell_type": "code",
   "execution_count": 1,
   "id": "bb153f90-3ad1-4b94-a3c4-7ca64fea6f1e",
   "metadata": {},
   "outputs": [],
   "source": [
    "import numpy as np"
   ]
  },
  {
   "cell_type": "markdown",
   "id": "06adeb6a-3dc3-4648-b292-0a9706089d69",
   "metadata": {},
   "source": [
    "|                                                     |   Ear Shape | Face Shape | Whiskers |   Cat  |\n",
    "|:---------------------------------------------------:|:---------:|:-----------:|:---------:|:------:|\n",
    "| <img src=\"images/0.png\" alt=\"drawing\" width=\"50\"/> |   Pointy   |   Round     |  Present  |    1   |\n",
    "| <img src=\"images/1.png\" alt=\"drawing\" width=\"50\"/> |   Floppy   |  Not Round  |  Present  |    1   |\n",
    "| <img src=\"images/2.png\" alt=\"drawing\" width=\"50\"/> |   Floppy   |  Round      |  Absent   |    0   |\n",
    "| <img src=\"images/3.png\" alt=\"drawing\" width=\"50\"/> |   Pointy   |  Not Round  |  Present  |    0   |\n",
    "| <img src=\"images/4.png\" alt=\"drawing\" width=\"50\"/> |   Pointy   |   Round     |  Present  |    1   |\n",
    "| <img src=\"images/5.png\" alt=\"drawing\" width=\"50\"/> |   Pointy   |   Round     |  Absent   |    1   |\n",
    "| <img src=\"images/6.png\" alt=\"drawing\" width=\"50\"/> |   Floppy   |  Not Round  |  Absent   |    0   |\n",
    "| <img src=\"images/7.png\" alt=\"drawing\" width=\"50\"/> |   Pointy   |  Round      |  Absent   |    1   |\n",
    "| <img src=\"images/8.png\" alt=\"drawing\" width=\"50\"/> |    Floppy  |   Round     |  Absent   |    0   |\n",
    "| <img src=\"images/9.png\" alt=\"drawing\" width=\"50\"/> |   Floppy   |  Round      |  Absent   |    0   |\n",
    "\n",
    "\n",
    "We will use **one-hot encoding** to encode the categorical features. They will be as follows:\n",
    "\n",
    "- Ear Shape: Pointy = 1, Floppy = 0\n",
    "- Face Shape: Round = 1, Not Round = 0\n",
    "- Whiskers: Present = 1, Absent = 0\n",
    "\n",
    "Therefore, we have two sets:\n",
    "\n",
    "- `X_train`: for each example, contains 3 features:\n",
    "            - Ear Shape (1 if pointy, 0 otherwise)\n",
    "            - Face Shape (1 if round, 0 otherwise)\n",
    "            - Whiskers (1 if present, 0 otherwise)\n",
    "            \n",
    "- `y_train`: whether the animal is a cat\n",
    "            - 1 if the animal is a cat\n",
    "            - 0 otherwise"
   ]
  },
  {
   "cell_type": "code",
   "execution_count": 2,
   "id": "408c2998-f22a-475d-a404-655e4f5e9886",
   "metadata": {},
   "outputs": [],
   "source": [
    "X_train = np.array([[1, 1, 1],\n",
    "[0, 0, 1],\n",
    " [0, 1, 0],\n",
    " [1, 0, 1],\n",
    " [1, 1, 1],\n",
    " [1, 1, 0],\n",
    " [0, 0, 0],\n",
    " [1, 1, 0],\n",
    " [0, 1, 0],\n",
    " [0, 1, 0]])\n",
    "\n",
    "y_train = np.array([1, 1, 0, 0, 1, 1, 0, 1, 0, 0])"
   ]
  },
  {
   "cell_type": "code",
   "execution_count": 5,
   "id": "eec6d744-8f04-42e9-8128-e653e9122776",
   "metadata": {},
   "outputs": [],
   "source": [
    "def entropy(p):\n",
    "    if p==0 or p==1:\n",
    "        return 0\n",
    "    else:\n",
    "        H=-p*np.log2(p)-(1-p)*np.log2(1-p)\n",
    "        return H"
   ]
  },
  {
   "cell_type": "code",
   "execution_count": 8,
   "id": "704b4e8f-3aae-4e3f-b573-7081939c2a87",
   "metadata": {},
   "outputs": [],
   "source": [
    "def split_indices(X,index_feature):\n",
    "    left_indices=[]\n",
    "    right_indices=[]\n",
    "    for i,x in enumerate(X):\n",
    "        if x[index_feature]==1:\n",
    "            left_indices.append(i)\n",
    "        else:\n",
    "            right_indices.append(i)\n",
    "    return left_indices,right_indices"
   ]
  },
  {
   "cell_type": "code",
   "execution_count": 9,
   "id": "c1e3249f-1b10-49ef-97f9-a85630ceed03",
   "metadata": {},
   "outputs": [],
   "source": [
    "def weighted_entropy(X,y,left_indices,right_indices):\n",
    "    p_right = sum(y[right_indices])/len(right_indices)\n",
    "    p_left = sum(y[left_indices])/len(left_indices)\n",
    "    w_right = len(right_indices)/len(X)\n",
    "    w_left = len(left_indices)/len(X)\n",
    "\n",
    "    return w_right*entropy(p_right)+w_left*entropy(p_left)\n"
   ]
  },
  {
   "cell_type": "code",
   "execution_count": 10,
   "id": "47f3683b-5fe1-4229-b0d6-3100cf1cbe34",
   "metadata": {},
   "outputs": [],
   "source": [
    "def information_gain (X,y,left_indices,right_indices):\n",
    "    p_node = sum(y)/len(y)\n",
    "    return entropy(p_node) - weighted_entropy(X,y,left_indices,right_indices)"
   ]
  },
  {
   "cell_type": "code",
   "execution_count": 13,
   "id": "493a3bb3-931d-4f28-b240-b333e6b98030",
   "metadata": {},
   "outputs": [
    {
     "name": "stdout",
     "output_type": "stream",
     "text": [
      "Feature :Ear Shape has information gain : 0.27807\n",
      "Feature :Face Shape has information gain : 0.03485\n",
      "Feature :Whiskers has information gain : 0.12451\n"
     ]
    }
   ],
   "source": [
    "for i, feature_name in enumerate(['Ear Shape', 'Face Shape', 'Whiskers']):\n",
    "    left_indices,right_indices = split_indices(X_train,i)\n",
    "    ig = information_gain(X_train,y_train, left_indices,right_indices)\n",
    "    print(f\"Feature :{feature_name} has information gain : {ig:.5f}\")"
   ]
  },
  {
   "cell_type": "code",
   "execution_count": null,
   "id": "299b3cf1-590b-40a5-aa33-1d9e13d72cf2",
   "metadata": {},
   "outputs": [],
   "source": []
  }
 ],
 "metadata": {
  "kernelspec": {
   "display_name": "Python 3 (ipykernel)",
   "language": "python",
   "name": "python3"
  },
  "language_info": {
   "codemirror_mode": {
    "name": "ipython",
    "version": 3
   },
   "file_extension": ".py",
   "mimetype": "text/x-python",
   "name": "python",
   "nbconvert_exporter": "python",
   "pygments_lexer": "ipython3",
   "version": "3.12.7"
  }
 },
 "nbformat": 4,
 "nbformat_minor": 5
}
