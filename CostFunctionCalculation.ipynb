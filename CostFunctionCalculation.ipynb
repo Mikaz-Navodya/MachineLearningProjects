{
 "cells": [
  {
   "cell_type": "code",
   "execution_count": 1,
   "id": "a7d6f41d-a7e8-4205-bd26-31d8dc4a6f2b",
   "metadata": {},
   "outputs": [],
   "source": [
    "import numpy as np\n",
    "import matplotlib.pyplot as plot"
   ]
  },
  {
   "cell_type": "code",
   "execution_count": 2,
   "id": "0e307b00-0081-419e-b55e-28068fbfe914",
   "metadata": {},
   "outputs": [],
   "source": [
    "x_train = np.array([1.0, 1.7, 2.0, 2.5, 3.0, 3.2])\n",
    "y_train = np.array([250, 300, 480,  430,   630, 730])\n",
    "w=100\n",
    "b=100"
   ]
  },
  {
   "cell_type": "code",
   "execution_count": 3,
   "id": "e693b592-0b49-48c1-9ec8-353bb178d508",
   "metadata": {},
   "outputs": [],
   "source": [
    "def CostFunction(x,y,w,b):\n",
    "    m=x.shape[0]\n",
    "    TotSqError=0\n",
    "    for i in range(m):\n",
    "        error=y[i]-(x[i]*w+b)\n",
    "        sq_error=error*error\n",
    "        TotSqError=TotSqError+sq_error\n",
    "\n",
    "    return ((1/2)*(1/m)*TotSqError)"
   ]
  },
  {
   "cell_type": "code",
   "execution_count": 4,
   "id": "a93fbff7-7b22-4aa7-89ea-f16c13065837",
   "metadata": {},
   "outputs": [],
   "source": [
    "costF=CostFunction(x_train,y_train,w,b)"
   ]
  },
  {
   "cell_type": "code",
   "execution_count": 5,
   "id": "61324bb8-764f-427a-bdee-7d84c6e393b0",
   "metadata": {},
   "outputs": [
    {
     "name": "stdout",
     "output_type": "stream",
     "text": [
      "15933.333333333332\n"
     ]
    }
   ],
   "source": [
    "print(costF)\n"
   ]
  },
  {
   "cell_type": "code",
   "execution_count": null,
   "id": "ae710abd-a268-4763-bec7-509ebad3d32b",
   "metadata": {},
   "outputs": [],
   "source": []
  }
 ],
 "metadata": {
  "kernelspec": {
   "display_name": "Python 3 (ipykernel)",
   "language": "python",
   "name": "python3"
  },
  "language_info": {
   "codemirror_mode": {
    "name": "ipython",
    "version": 3
   },
   "file_extension": ".py",
   "mimetype": "text/x-python",
   "name": "python",
   "nbconvert_exporter": "python",
   "pygments_lexer": "ipython3",
   "version": "3.12.7"
  }
 },
 "nbformat": 4,
 "nbformat_minor": 5
}
