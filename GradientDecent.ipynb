{
 "cells": [
  {
   "cell_type": "code",
   "execution_count": 1,
   "id": "03e43c46-e6bf-4f49-a361-edeec5543b07",
   "metadata": {},
   "outputs": [],
   "source": [
    "import numpy as np\n",
    "import matplotlib.pyplot as plt\n"
   ]
  },
  {
   "cell_type": "code",
   "execution_count": 2,
   "id": "a56c3c42-674d-4685-a762-61a2f774839f",
   "metadata": {},
   "outputs": [],
   "source": [
    "#Function to calculate the cost\n",
    "def compute_cost(x, y, w, b):\n",
    "   \n",
    "    m = x.shape[0] \n",
    "    cost = 0\n",
    "    \n",
    "    for i in range(m):\n",
    "        f_wb = w * x[i] + b\n",
    "        cost = cost + (f_wb - y[i])**2\n",
    "    total_cost = 1 / (2 * m) * cost\n",
    "\n",
    "    return total_cost"
   ]
  },
  {
   "cell_type": "code",
   "execution_count": 3,
   "id": "5d954eb7-3633-4a94-ac69-384b7e9d01a7",
   "metadata": {},
   "outputs": [],
   "source": [
    "x_train = np.array([1.0,  2.0])\n",
    "y_train = np.array([300,500])\n",
    "w=0\n",
    "b=0"
   ]
  },
  {
   "cell_type": "code",
   "execution_count": 4,
   "id": "91c12085-81f8-4e77-9277-7089bfbda159",
   "metadata": {},
   "outputs": [],
   "source": [
    "#Calculate W\n",
    "def calculate_dw(x,y,w,b):\n",
    "    m=x.shape[0]\n",
    "    TotSqError=0\n",
    "    for i in range(m):\n",
    "        f_wb=x[i]*w+b\n",
    "        error=(f_wb-y[i])*x[i]\n",
    "        TotSqError=TotSqError+error\n",
    "\n",
    "    return (1/m)*TotSqError\n",
    "    "
   ]
  },
  {
   "cell_type": "code",
   "execution_count": 5,
   "id": "d6fed048-69cc-4d87-8478-b71674fccacd",
   "metadata": {},
   "outputs": [],
   "source": [
    "#Calculate B\n",
    "def calculate_db(x,y,w,b):\n",
    "    m=x.shape[0]\n",
    "    TotSqError=0\n",
    "    for i in range(m):\n",
    "        f_wb=x[i]*w+b\n",
    "        error=(f_wb-y[i])\n",
    "        TotSqError=TotSqError+error\n",
    "\n",
    "    return (1/m)*TotSqError"
   ]
  },
  {
   "cell_type": "code",
   "execution_count": 6,
   "id": "de007c7a-b79f-467c-b959-ca5eff5b5bde",
   "metadata": {},
   "outputs": [],
   "source": [
    "def gradient_decent(alpha,w,b,x,y,NoItr):\n",
    "\n",
    "    J_history = []\n",
    "    p_history = []\n",
    "    \n",
    "\n",
    "    for i in range(NoItr):\n",
    "        dj_dw=calculate_dw(x,y,w,b)\n",
    "        dj_db=calculate_db(x,y,w,b)\n",
    "        w=w - alpha*dj_dw\n",
    "        b=b - alpha*dj_db\n",
    "    \n",
    "        # Save cost J at each iteration\n",
    "        if i<100000:\n",
    "            J_history.append( compute_cost(x, y, w , b))\n",
    "            p_history.append([w,b])\n",
    "        # Print cost every at intervals 10 times or as many iterations if < 10\n",
    "        if i% math.ceil(NoItr/10) == 0:\n",
    "            print(f\"Iteration {i:4}: Cost {J_history[-1]:0.2e} \",\n",
    "                  f\"dj_dw: {dj_dw: 0.3e}, dj_db: {dj_db: 0.3e}  \",\n",
    "                  f\"w: {w: 0.3e}, b:{b: 0.5e}\")\n",
    "\n",
    "    return (w,b)\n",
    "    "
   ]
  },
  {
   "cell_type": "code",
   "execution_count": 7,
   "id": "5318f241-0412-49cf-a64c-963991fe554c",
   "metadata": {},
   "outputs": [
    {
     "name": "stdout",
     "output_type": "stream",
     "text": [
      "Iteration    0: Cost 7.93e+04  dj_dw: -6.500e+02, dj_db: -4.000e+02   w:  6.500e+00, b: 4.00000e+00\n",
      "Iteration 1000: Cost 3.41e+00  dj_dw: -3.712e-01, dj_db:  6.007e-01   w:  1.949e+02, b: 1.08228e+02\n",
      "Iteration 2000: Cost 7.93e-01  dj_dw: -1.789e-01, dj_db:  2.895e-01   w:  1.975e+02, b: 1.03966e+02\n",
      "Iteration 3000: Cost 1.84e-01  dj_dw: -8.625e-02, dj_db:  1.396e-01   w:  1.988e+02, b: 1.01912e+02\n",
      "Iteration 4000: Cost 4.28e-02  dj_dw: -4.158e-02, dj_db:  6.727e-02   w:  1.994e+02, b: 1.00922e+02\n",
      "Iteration 5000: Cost 9.95e-03  dj_dw: -2.004e-02, dj_db:  3.243e-02   w:  1.997e+02, b: 1.00444e+02\n",
      "Iteration 6000: Cost 2.31e-03  dj_dw: -9.660e-03, dj_db:  1.563e-02   w:  1.999e+02, b: 1.00214e+02\n",
      "Iteration 7000: Cost 5.37e-04  dj_dw: -4.657e-03, dj_db:  7.535e-03   w:  1.999e+02, b: 1.00103e+02\n",
      "Iteration 8000: Cost 1.25e-04  dj_dw: -2.245e-03, dj_db:  3.632e-03   w:  2.000e+02, b: 1.00050e+02\n",
      "Iteration 9000: Cost 2.90e-05  dj_dw: -1.082e-03, dj_db:  1.751e-03   w:  2.000e+02, b: 1.00024e+02\n"
     ]
    }
   ],
   "source": [
    "alpha=1.0e-2\n",
    "NoItr=10000\n",
    "import math, copy\n",
    "w,b=gradient_decent(alpha,w,b,x_train,y_train,NoItr)"
   ]
  },
  {
   "cell_type": "code",
   "execution_count": 8,
   "id": "3e0ba536-713d-46ca-b9df-c867befbb24d",
   "metadata": {},
   "outputs": [
    {
     "name": "stdout",
     "output_type": "stream",
     "text": [
      "199.99285075131766 100.011567727362\n"
     ]
    }
   ],
   "source": [
    "print(w,b)"
   ]
  },
  {
   "cell_type": "code",
   "execution_count": null,
   "id": "49cc26a2-5439-46c6-9f40-965fd4440504",
   "metadata": {},
   "outputs": [],
   "source": []
  }
 ],
 "metadata": {
  "kernelspec": {
   "display_name": "Python 3 (ipykernel)",
   "language": "python",
   "name": "python3"
  },
  "language_info": {
   "codemirror_mode": {
    "name": "ipython",
    "version": 3
   },
   "file_extension": ".py",
   "mimetype": "text/x-python",
   "name": "python",
   "nbconvert_exporter": "python",
   "pygments_lexer": "ipython3",
   "version": "3.12.7"
  }
 },
 "nbformat": 4,
 "nbformat_minor": 5
}
